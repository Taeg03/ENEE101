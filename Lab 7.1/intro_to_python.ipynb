{
  "cells": [
    {
      "cell_type": "markdown",
      "metadata": {
        "id": "jPd7BZmG4e2y"
      },
      "source": [
        "This lab is split into four parts, each focusing on one important aspect of the Python programming language. Appropriate documentation is included in each part for you to reference. With the exception of Task 4, think about how you might solve the problems using MATLAB -- you'll find that solving them using Python is quite similar."
      ]
    },
    {
      "cell_type": "markdown",
      "metadata": {
        "id": "xU0KxYlz5Bdf"
      },
      "source": [
        "We will be working with a few different packages in this lab -- these are like the toolboxes you had to keep installing in MATLAB. DO NOT DELETE."
      ]
    },
    {
      "cell_type": "code",
      "execution_count": 10,
      "metadata": {
        "id": "3guyLgx9etrW"
      },
      "outputs": [],
      "source": [
        "import numpy as np\n",
        "import pandas as pd\n",
        "import matplotlib.pyplot as plt\n",
        "import seaborn as sns\n",
        "import random"
      ]
    },
    {
      "cell_type": "markdown",
      "metadata": {
        "id": "xAbNTXvykeIC"
      },
      "source": [
        "# Task 1: Python Fundamentals\n",
        "Reference: https://docs.python.org/3/"
      ]
    },
    {
      "cell_type": "markdown",
      "metadata": {
        "id": "wsMiA57Wkh0u"
      },
      "source": [
        "Declare a variable called hello_world. Assign to it the string 'hello world!'. Then, print hello_world."
      ]
    },
    {
      "cell_type": "code",
      "execution_count": 2,
      "metadata": {
        "id": "IG6ieCcIkhOu"
      },
      "outputs": [
        {
          "name": "stdout",
          "output_type": "stream",
          "text": [
            "hello world!\n"
          ]
        }
      ],
      "source": [
        "hello_World = 'hello world!'\n",
        "print(hello_World)"
      ]
    },
    {
      "cell_type": "markdown",
      "metadata": {
        "id": "FtDSkV8mwJOb"
      },
      "source": [
        "Declare two variables called num1 and num2; assign to them the values -5 and 7, respectively. Using two separate print statements, print their sum and product."
      ]
    },
    {
      "cell_type": "markdown",
      "metadata": {
        "id": "727JKncFix5T"
      },
      "source": []
    },
    {
      "cell_type": "code",
      "execution_count": 3,
      "metadata": {
        "id": "8VQD4ZDKwHA7"
      },
      "outputs": [
        {
          "name": "stdout",
          "output_type": "stream",
          "text": [
            "2\n",
            "-35\n"
          ]
        }
      ],
      "source": [
        "num1 = -5\n",
        "num2 = 7\n",
        "print(num1 + num2)\n",
        "print(num1 * num2)"
      ]
    },
    {
      "cell_type": "markdown",
      "metadata": {
        "id": "B1yNRbauwgx3"
      },
      "source": [
        "Declare four variables a, b, c, and d; assign to them the boolean values True, False, True, and True, respectively. Using four separate print statements, print the result of the following boolean expressions:\n",
        "\n",
        "\n",
        "*   a AND b OR c AND (NOT d)\n",
        "*   (a OR b) AND (b OR c) AND NOT (c AND d)\n",
        "*   a AND c\n",
        "*   b OR (NOT c) OR (NOT a)\n",
        "\n",
        "*hint:\n",
        "AND = &,\n",
        "OR = |,\n",
        "NOT = not*\n",
        "\n",
        "\n",
        "\n"
      ]
    },
    {
      "cell_type": "code",
      "execution_count": 4,
      "metadata": {
        "id": "7tPk_iAAw2zV"
      },
      "outputs": [
        {
          "name": "stdout",
          "output_type": "stream",
          "text": [
            "False\n",
            "True\n",
            "True\n",
            "False\n"
          ]
        }
      ],
      "source": [
        "a, b, c, d = True, False, True, False\n",
        "\n",
        "print(a and b or c and d)\n",
        "print((a or b) and (b or c) and not (c and d))\n",
        "print(a and c)\n",
        "print(b or (not c) or (not a))"
      ]
    },
    {
      "cell_type": "markdown",
      "metadata": {
        "id": "PEjCpoe2y3Wb"
      },
      "source": [
        "The cell below generates a random number called rando between 0 and 100. Use an if-elif-else statement to print 'A' if the number is between [0,33], 'B' if the number is between [34, 66], or 'C' if the number is between [67, 100]. You might find it helpful to print out the random number as well to confirm your code's correctness."
      ]
    },
    {
      "cell_type": "code",
      "execution_count": 11,
      "metadata": {
        "id": "7nOiQSONyCWz"
      },
      "outputs": [
        {
          "name": "stdout",
          "output_type": "stream",
          "text": [
            "B\n"
          ]
        }
      ],
      "source": [
        "rando = random.random()*100\n",
        "if rando <= 33:\n",
        "    print('A')\n",
        "elif rando <= 66:\n",
        "    print('B')\n",
        "else:\n",
        "    print('C')"
      ]
    },
    {
      "cell_type": "markdown",
      "metadata": {
        "id": "q7t1wCYM0CMp"
      },
      "source": [
        "Using a for-loop, print out all integers on the interval [0, 5]."
      ]
    },
    {
      "cell_type": "code",
      "execution_count": 7,
      "metadata": {
        "id": "lZjkeNTk0QOz"
      },
      "outputs": [
        {
          "name": "stdout",
          "output_type": "stream",
          "text": [
            "0\n",
            "1\n",
            "2\n",
            "3\n",
            "4\n",
            "5\n"
          ]
        }
      ],
      "source": [
        "for i in range(6):\n",
        "    print(i)"
      ]
    },
    {
      "cell_type": "markdown",
      "metadata": {
        "id": "n9IUS-Iy0WG2"
      },
      "source": [
        "Using a for-loop, print out all odd integers on the interval [3, 18]."
      ]
    },
    {
      "cell_type": "code",
      "execution_count": 12,
      "metadata": {
        "id": "mVgKNXl_0T3f"
      },
      "outputs": [
        {
          "name": "stdout",
          "output_type": "stream",
          "text": [
            "3\n",
            "5\n",
            "7\n",
            "9\n",
            "11\n",
            "13\n",
            "15\n",
            "17\n"
          ]
        }
      ],
      "source": [
        "for i in range(3, 19, 2):\n",
        "    print(i)"
      ]
    },
    {
      "cell_type": "markdown",
      "metadata": {
        "id": "4FVNxqZp0nQs"
      },
      "source": [
        "The cell below defines a list call list1 containing ten integers. Using a for-each-loop, print the integers in list1 that exceed 42."
      ]
    },
    {
      "cell_type": "code",
      "execution_count": 13,
      "metadata": {
        "id": "4Mt_ny9I0jol"
      },
      "outputs": [
        {
          "name": "stdout",
          "output_type": "stream",
          "text": [
            "99\n",
            "75\n",
            "65\n",
            "108\n",
            "44\n"
          ]
        }
      ],
      "source": [
        "list1 = [0, 14, 99, 75, 41, 42, 65, 108, 44, 19]\n",
        "for i in list1:\n",
        "    if i > 42:\n",
        "        print(i)"
      ]
    },
    {
      "cell_type": "markdown",
      "metadata": {
        "id": "OP7MdslB1F80"
      },
      "source": [
        "The cell below defines a list called list2 containing five strings. Using a for-each-loop, print out all strings in list that are more than six characters in length."
      ]
    },
    {
      "cell_type": "code",
      "execution_count": 14,
      "metadata": {
        "id": "ngNlx89_1DOs"
      },
      "outputs": [
        {
          "name": "stdout",
          "output_type": "stream",
          "text": [
            "princess\n",
            "ravioli\n",
            "charger\n"
          ]
        }
      ],
      "source": [
        "list2 = ['dog', 'princess', 'ravioli', 'charger', 'gnat']\n",
        "for i in list2:\n",
        "    if len(i) > 6:\n",
        "        print(i)"
      ]
    },
    {
      "cell_type": "markdown",
      "metadata": {
        "id": "MyAPMZ8xe4qL"
      },
      "source": [
        "# Task 2: Practice with Numpy\n",
        "Reference: https://numpy.org/doc/stable/reference/index.html#reference"
      ]
    },
    {
      "cell_type": "markdown",
      "metadata": {
        "id": "X7OlNoYOwmdN"
      },
      "source": [
        "Create a Numpy array with the elements 0, 1, 2, 3, 4, and 5, in that order. Assign it to a variable called x. Then, print out x and its shape using a single print statement."
      ]
    },
    {
      "cell_type": "code",
      "execution_count": 35,
      "metadata": {
        "id": "E-QmM9MBe1yT"
      },
      "outputs": [
        {
          "name": "stdout",
          "output_type": "stream",
          "text": [
            "[0 1 2 3 4 5]\n"
          ]
        }
      ],
      "source": [
        "x = np.array([0, 1, 2, 3, 4, 5])\n",
        "print(x)"
      ]
    },
    {
      "cell_type": "markdown",
      "metadata": {
        "id": "f4r8yujtf0hY"
      },
      "source": [
        "Next, create a 2D Numpy array of size 2x3 -- it should contain the letters A, B, and C in the first row, and the letters X, Y and Z in the second row. Assign it to a variable called alpha_mat. Then, print out alpha_mat and its shape using a single print statement."
      ]
    },
    {
      "cell_type": "code",
      "execution_count": 36,
      "metadata": {
        "id": "CHtoY2ZJfftw"
      },
      "outputs": [
        {
          "name": "stdout",
          "output_type": "stream",
          "text": [
            "[['A' 'B' 'C']\n",
            " ['X' 'Y' 'Z']] (2, 3)\n"
          ]
        }
      ],
      "source": [
        "alpha_mat = np.array([['A', 'B', 'C'], ['X', 'Y', 'Z']])\n",
        "print(alpha_mat, alpha_mat.shape)"
      ]
    },
    {
      "cell_type": "markdown",
      "metadata": {
        "id": "eodSrNNlgu0G"
      },
      "source": [
        "Now, take the array x we've already created, and square each element. Store this new array in a variable called y1. Print out y1."
      ]
    },
    {
      "cell_type": "code",
      "execution_count": 37,
      "metadata": {
        "id": "tBvUIyPxhQ7B"
      },
      "outputs": [
        {
          "name": "stdout",
          "output_type": "stream",
          "text": [
            "[ 0  1  4  9 16 25]\n"
          ]
        }
      ],
      "source": [
        "y1 = np.square(x)\n",
        "print(y1)"
      ]
    },
    {
      "cell_type": "markdown",
      "metadata": {
        "id": "rcJviv1rhWdZ"
      },
      "source": [
        "Create another Numpy array called y2, and set it equal to the sum of x and y1. Print out y2."
      ]
    },
    {
      "cell_type": "code",
      "execution_count": 38,
      "metadata": {
        "id": "CCIkngXrhmhU"
      },
      "outputs": [
        {
          "name": "stdout",
          "output_type": "stream",
          "text": [
            "[ 0  2  6 12 20 30]\n"
          ]
        }
      ],
      "source": [
        "y2 = x + y1\n",
        "print(y2)"
      ]
    },
    {
      "cell_type": "markdown",
      "metadata": {
        "id": "w_3xZLb6h5yD"
      },
      "source": [
        "Concatenate the arrays x, y1, and y2; assign the resulting array to a variable called concat_arr. Print out concat_arr and its size using a single print statement."
      ]
    },
    {
      "cell_type": "code",
      "execution_count": 39,
      "metadata": {
        "id": "ccbi_T9WiF2G"
      },
      "outputs": [
        {
          "name": "stdout",
          "output_type": "stream",
          "text": [
            "[ 0  1  2  3  4  5  0  1  4  9 16 25  0  2  6 12 20 30]\n"
          ]
        }
      ],
      "source": [
        "concat_arr = np.concatenate((x, y1, y2))\n",
        "print(concat_arr)"
      ]
    },
    {
      "cell_type": "markdown",
      "metadata": {
        "id": "1eoTyMwviaqj"
      },
      "source": [
        "Reshape concat_arr to be a 6x3 matrix; assign the result to a variable called concat_reshaped. Print out concat_reshaped and its shape to confirm that is indeed a 6x3 matrix (in a single print statement)."
      ]
    },
    {
      "cell_type": "code",
      "execution_count": 45,
      "metadata": {
        "id": "8M0RqeGKi3zh"
      },
      "outputs": [
        {
          "name": "stdout",
          "output_type": "stream",
          "text": [
            "[[ 0  1  2]\n",
            " [ 3  4  5]\n",
            " [ 0  1  4]\n",
            " [ 9 16 25]\n",
            " [ 0  2  6]\n",
            " [12 20 30]]\n"
          ]
        }
      ],
      "source": [
        "concat_reshaped = concat_arr.reshape(6, 3)\n",
        "print(concat_reshaped)"
      ]
    },
    {
      "cell_type": "markdown",
      "metadata": {
        "id": "5AoUGUpYjEc0"
      },
      "source": [
        "Print the element in row 3, column 2 of concat_reshaped. You should access this element programmatically, i.e., do not hardcode '25' in your print statement."
      ]
    },
    {
      "cell_type": "code",
      "execution_count": 42,
      "metadata": {
        "id": "iED1xvotjDBh"
      },
      "outputs": [
        {
          "name": "stdout",
          "output_type": "stream",
          "text": [
            "25\n"
          ]
        }
      ],
      "source": [
        "print(concat_reshaped[3, 2])"
      ]
    },
    {
      "cell_type": "markdown",
      "metadata": {
        "id": "XZ_xRyefjrLC"
      },
      "source": [
        "Print the entirety of column 1 of concat_reshaped. You should access this column programmatically, i.e., do not hardcode the column elements in your print statement."
      ]
    },
    {
      "cell_type": "code",
      "execution_count": 46,
      "metadata": {
        "id": "AQHAc6Zijp8G"
      },
      "outputs": [
        {
          "name": "stdout",
          "output_type": "stream",
          "text": [
            "[ 1  4  1 16  2 20]\n"
          ]
        }
      ],
      "source": [
        "print(concat_reshaped[:, 1])"
      ]
    },
    {
      "cell_type": "markdown",
      "metadata": {
        "id": "o8nW44tykDrU"
      },
      "source": [
        "Compute the elementwise product of rows 1 and 5 of concat_reshaped. Print the result."
      ]
    },
    {
      "cell_type": "code",
      "execution_count": 47,
      "metadata": {
        "id": "yM1Pgc3Xj980"
      },
      "outputs": [
        {
          "name": "stdout",
          "output_type": "stream",
          "text": [
            "[ 36  80 150]\n"
          ]
        }
      ],
      "source": [
        "print(concat_reshaped[1, :] * concat_reshaped[5, :])"
      ]
    },
    {
      "cell_type": "markdown",
      "metadata": {
        "id": "LqQIUMopd30H"
      },
      "source": [
        "# Task 3: Visualization with Matplotlib\n",
        "Reference: https://matplotlib.org/stable/plot_types/index.html"
      ]
    },
    {
      "cell_type": "markdown",
      "metadata": {
        "id": "LdZgK60eevoV"
      },
      "source": [
        "We declared vectors x and y1 in Task 2; plot y1 vs. x on a line plot. Be sure to show the figure!"
      ]
    },
    {
      "cell_type": "code",
      "execution_count": 48,
      "metadata": {
        "id": "3FxTk_njd9VK"
      },
      "outputs": [
        {
          "data": {
            "image/png": "[encoded data removed]",
            "text/plain": [
              "<Figure size 640x480 with 1 Axes>"
            ]
          },
          "metadata": {},
          "output_type": "display_data"
        }
      ],
      "source": [
        "plt.plot(x, y1)\n",
        "plt.show()"
      ]
    },
    {
      "cell_type": "markdown",
      "metadata": {
        "id": "eN-1lckffRbX"
      },
      "source": [
        "We also delcared a vector y2; plot y1 vs. x AND y2 vs. x on the same scatter plot. Add a legend showing which points correspond to y1 and which points correspond to y2."
      ]
    },
    {
      "cell_type": "code",
      "execution_count": 49,
      "metadata": {
        "id": "yLADdYBVfaQr"
      },
      "outputs": [
        {
          "data": {
            "image/png": "[encoded data removed]",
            "text/plain": [
              "<Figure size 640x480 with 1 Axes>"
            ]
          },
          "metadata": {},
          "output_type": "display_data"
        }
      ],
      "source": [
        "plt.scatter(x, y1, label='y1')\n",
        "plt.scatter(x, y2, label='y2')\n",
        "plt.legend()\n",
        "plt.show()"
      ]
    },
    {
      "cell_type": "markdown",
      "metadata": {
        "id": "NaaTrXbpgJc5"
      },
      "source": [
        "Declare a time vector called t with spanning 0 to 10 seconds with a step size of 0.001 seconds. Plot the function $f(t)=2sin(8t+3)$ on a line plot. Give the plot an appropriate title, as well as x- and y-axis labels."
      ]
    },
    {
      "cell_type": "code",
      "execution_count": 50,
      "metadata": {
        "id": "pZHOmLQwgHHl"
      },
      "outputs": [
        {
          "data": {
            "image/png": "[encoded data removed]",
            "text/plain": [
              "<Figure size 640x480 with 1 Axes>"
            ]
          },
          "metadata": {},
          "output_type": "display_data"
        }
      ],
      "source": [
        "import numpy as np\n",
        "import matplotlib.pyplot as plt\n",
        "\n",
        "t = np.arange(0., 10., 0.001)\n",
        "f = 2 * np.sin(8 * t + 3)\n",
        "plt.plot(t, f)\n",
        "\n",
        "plt.xlabel('Time (seconds)')\n",
        "plt.ylabel('f(t)')\n",
        "plt.title('Plot of f(t) = 2sin(8t+3)')\n",
        "\n",
        "plt.show()"
      ]
    },
    {
      "cell_type": "markdown",
      "metadata": {
        "id": "luc-eLw_hi-u"
      },
      "source": [
        "Using the same time vector t declared above, plot the function $g(t)=\\frac{t^2+10t-4}{t^3+2}$. Once again, add an appropriate title, as well as x- and y-axis labels."
      ]
    },
    {
      "cell_type": "code",
      "execution_count": 53,
      "metadata": {
        "id": "OkY92_J8iM5i"
      },
      "outputs": [
        {
          "data": {
            "text/plain": [
              "[<matplotlib.lines.Line2D at 0x2a9857bf090>]"
            ]
          },
          "execution_count": 53,
          "metadata": {},
          "output_type": "execute_result"
        },
        {
          "data": {
            "image/png": "[encoded data removed]",
            "text/plain": [
              "<Figure size 640x480 with 1 Axes>"
            ]
          },
          "metadata": {},
          "output_type": "display_data"
        }
      ],
      "source": [
        "t = np.arange(0., 10., 0.001)\n",
        "g = (t**2+10*t-4)/(t**3+2)\n",
        "\n",
        "plt.xlabel('Time (seconds)')\n",
        "plt.ylabel('g(t)')\n",
        "plt.title('Plot of g(t)')\n",
        "\n",
        "plt.plot(t, g)\n"
      ]
    },
    {
      "cell_type": "markdown",
      "metadata": {
        "id": "W9yLqkFqkaum"
      },
      "source": [
        "# Task 4: Introduction to Pandas\n",
        "Reference: https://pandas.pydata.org/docs/reference/index.html#api"
      ]
    },
    {
      "cell_type": "markdown",
      "metadata": {
        "id": "s8FDaxce1xrU"
      },
      "source": [
        "The cell below retrieves an example Pandas DataFrame for us to work with. DO NOT DELETE OR ALTER!"
      ]
    },
    {
      "cell_type": "code",
      "execution_count": 55,
      "metadata": {
        "colab": {
          "base_uri": "https://localhost:8080/",
          "height": 419
        },
        "id": "SzKhF0z-kd3D",
        "outputId": "058f63e6-7eec-462b-ceb0-3cb06a763cd9"
      },
      "outputs": [
        {
          "data": {
            "text/html": [
              "<div>\n",
              "<style scoped>\n",
              "    .dataframe tbody tr th:only-of-type {\n",
              "        vertical-align: middle;\n",
              "    }\n",
              "\n",
              "    .dataframe tbody tr th {\n",
              "        vertical-align: top;\n",
              "    }\n",
              "\n",
              "    .dataframe thead th {\n",
              "        text-align: right;\n",
              "    }\n",
              "</style>\n",
              "<table border=\"1\" class=\"dataframe\">\n",
              "  <thead>\n",
              "    <tr style=\"text-align: right;\">\n",
              "      <th></th>\n",
              "      <th>mpg</th>\n",
              "      <th>cylinders</th>\n",
              "      <th>displacement</th>\n",
              "      <th>horsepower</th>\n",
              "      <th>weight</th>\n",
              "      <th>acceleration</th>\n",
              "      <th>model_year</th>\n",
              "      <th>origin</th>\n",
              "      <th>name</th>\n",
              "    </tr>\n",
              "  </thead>\n",
              "  <tbody>\n",
              "    <tr>\n",
              "      <th>0</th>\n",
              "      <td>18.0</td>\n",
              "      <td>8</td>\n",
              "      <td>307.0</td>\n",
              "      <td>130.0</td>\n",
              "      <td>3504</td>\n",
              "      <td>12.0</td>\n",
              "      <td>70</td>\n",
              "      <td>usa</td>\n",
              "      <td>chevrolet chevelle malibu</td>\n",
              "    </tr>\n",
              "    <tr>\n",
              "      <th>1</th>\n",
              "      <td>15.0</td>\n",
              "      <td>8</td>\n",
              "      <td>350.0</td>\n",
              "      <td>165.0</td>\n",
              "      <td>3693</td>\n",
              "      <td>11.5</td>\n",
              "      <td>70</td>\n",
              "      <td>usa</td>\n",
              "      <td>buick skylark 320</td>\n",
              "    </tr>\n",
              "    <tr>\n",
              "      <th>2</th>\n",
              "      <td>18.0</td>\n",
              "      <td>8</td>\n",
              "      <td>318.0</td>\n",
              "      <td>150.0</td>\n",
              "      <td>3436</td>\n",
              "      <td>11.0</td>\n",
              "      <td>70</td>\n",
              "      <td>usa</td>\n",
              "      <td>plymouth satellite</td>\n",
              "    </tr>\n",
              "    <tr>\n",
              "      <th>3</th>\n",
              "      <td>16.0</td>\n",
              "      <td>8</td>\n",
              "      <td>304.0</td>\n",
              "      <td>150.0</td>\n",
              "      <td>3433</td>\n",
              "      <td>12.0</td>\n",
              "      <td>70</td>\n",
              "      <td>usa</td>\n",
              "      <td>amc rebel sst</td>\n",
              "    </tr>\n",
              "    <tr>\n",
              "      <th>4</th>\n",
              "      <td>17.0</td>\n",
              "      <td>8</td>\n",
              "      <td>302.0</td>\n",
              "      <td>140.0</td>\n",
              "      <td>3449</td>\n",
              "      <td>10.5</td>\n",
              "      <td>70</td>\n",
              "      <td>usa</td>\n",
              "      <td>ford torino</td>\n",
              "    </tr>\n",
              "    <tr>\n",
              "      <th>...</th>\n",
              "      <td>...</td>\n",
              "      <td>...</td>\n",
              "      <td>...</td>\n",
              "      <td>...</td>\n",
              "      <td>...</td>\n",
              "      <td>...</td>\n",
              "      <td>...</td>\n",
              "      <td>...</td>\n",
              "      <td>...</td>\n",
              "    </tr>\n",
              "    <tr>\n",
              "      <th>393</th>\n",
              "      <td>27.0</td>\n",
              "      <td>4</td>\n",
              "      <td>140.0</td>\n",
              "      <td>86.0</td>\n",
              "      <td>2790</td>\n",
              "      <td>15.6</td>\n",
              "      <td>82</td>\n",
              "      <td>usa</td>\n",
              "      <td>ford mustang gl</td>\n",
              "    </tr>\n",
              "    <tr>\n",
              "      <th>394</th>\n",
              "      <td>44.0</td>\n",
              "      <td>4</td>\n",
              "      <td>97.0</td>\n",
              "      <td>52.0</td>\n",
              "      <td>2130</td>\n",
              "      <td>24.6</td>\n",
              "      <td>82</td>\n",
              "      <td>europe</td>\n",
              "      <td>vw pickup</td>\n",
              "    </tr>\n",
              "    <tr>\n",
              "      <th>395</th>\n",
              "      <td>32.0</td>\n",
              "      <td>4</td>\n",
              "      <td>135.0</td>\n",
              "      <td>84.0</td>\n",
              "      <td>2295</td>\n",
              "      <td>11.6</td>\n",
              "      <td>82</td>\n",
              "      <td>usa</td>\n",
              "      <td>dodge rampage</td>\n",
              "    </tr>\n",
              "    <tr>\n",
              "      <th>396</th>\n",
              "      <td>28.0</td>\n",
              "      <td>4</td>\n",
              "      <td>120.0</td>\n",
              "      <td>79.0</td>\n",
              "      <td>2625</td>\n",
              "      <td>18.6</td>\n",
              "      <td>82</td>\n",
              "      <td>usa</td>\n",
              "      <td>ford ranger</td>\n",
              "    </tr>\n",
              "    <tr>\n",
              "      <th>397</th>\n",
              "      <td>31.0</td>\n",
              "      <td>4</td>\n",
              "      <td>119.0</td>\n",
              "      <td>82.0</td>\n",
              "      <td>2720</td>\n",
              "      <td>19.4</td>\n",
              "      <td>82</td>\n",
              "      <td>usa</td>\n",
              "      <td>chevy s-10</td>\n",
              "    </tr>\n",
              "  </tbody>\n",
              "</table>\n",
              "<p>398 rows × 9 columns</p>\n",
              "</div>"
            ],
            "text/plain": [
              "      mpg  cylinders  displacement  horsepower  weight  acceleration  \\\n",
              "0    18.0          8         307.0       130.0    3504          12.0   \n",
              "1    15.0          8         350.0       165.0    3693          11.5   \n",
              "2    18.0          8         318.0       150.0    3436          11.0   \n",
              "3    16.0          8         304.0       150.0    3433          12.0   \n",
              "4    17.0          8         302.0       140.0    3449          10.5   \n",
              "..    ...        ...           ...         ...     ...           ...   \n",
              "393  27.0          4         140.0        86.0    2790          15.6   \n",
              "394  44.0          4          97.0        52.0    2130          24.6   \n",
              "395  32.0          4         135.0        84.0    2295          11.6   \n",
              "396  28.0          4         120.0        79.0    2625          18.6   \n",
              "397  31.0          4         119.0        82.0    2720          19.4   \n",
              "\n",
              "     model_year  origin                       name  \n",
              "0            70     usa  chevrolet chevelle malibu  \n",
              "1            70     usa          buick skylark 320  \n",
              "2            70     usa         plymouth satellite  \n",
              "3            70     usa              amc rebel sst  \n",
              "4            70     usa                ford torino  \n",
              "..          ...     ...                        ...  \n",
              "393          82     usa            ford mustang gl  \n",
              "394          82  europe                  vw pickup  \n",
              "395          82     usa              dodge rampage  \n",
              "396          82     usa                ford ranger  \n",
              "397          82     usa                 chevy s-10  \n",
              "\n",
              "[398 rows x 9 columns]"
            ]
          },
          "execution_count": 55,
          "metadata": {},
          "output_type": "execute_result"
        }
      ],
      "source": [
        "vehicle_df = sns.load_dataset('mpg')\n",
        "vehicle_df"
      ]
    },
    {
      "cell_type": "markdown",
      "metadata": {
        "id": "TdTCZyoWp9D1"
      },
      "source": [
        "Display the descriptive statistics of vehicle_df using its .describe() function."
      ]
    },
    {
      "cell_type": "code",
      "execution_count": 56,
      "metadata": {
        "id": "RS3EivDdqSsZ"
      },
      "outputs": [
        {
          "data": {
            "text/html": [
              "<div>\n",
              "<style scoped>\n",
              "    .dataframe tbody tr th:only-of-type {\n",
              "        vertical-align: middle;\n",
              "    }\n",
              "\n",
              "    .dataframe tbody tr th {\n",
              "        vertical-align: top;\n",
              "    }\n",
              "\n",
              "    .dataframe thead th {\n",
              "        text-align: right;\n",
              "    }\n",
              "</style>\n",
              "<table border=\"1\" class=\"dataframe\">\n",
              "  <thead>\n",
              "    <tr style=\"text-align: right;\">\n",
              "      <th></th>\n",
              "      <th>mpg</th>\n",
              "      <th>cylinders</th>\n",
              "      <th>displacement</th>\n",
              "      <th>horsepower</th>\n",
              "      <th>weight</th>\n",
              "      <th>acceleration</th>\n",
              "      <th>model_year</th>\n",
              "    </tr>\n",
              "  </thead>\n",
              "  <tbody>\n",
              "    <tr>\n",
              "      <th>count</th>\n",
              "      <td>398.000000</td>\n",
              "      <td>398.000000</td>\n",
              "      <td>398.000000</td>\n",
              "      <td>392.000000</td>\n",
              "      <td>398.000000</td>\n",
              "      <td>398.000000</td>\n",
              "      <td>398.000000</td>\n",
              "    </tr>\n",
              "    <tr>\n",
              "      <th>mean</th>\n",
              "      <td>23.514573</td>\n",
              "      <td>5.454774</td>\n",
              "      <td>193.425879</td>\n",
              "      <td>104.469388</td>\n",
              "      <td>2970.424623</td>\n",
              "      <td>15.568090</td>\n",
              "      <td>76.010050</td>\n",
              "    </tr>\n",
              "    <tr>\n",
              "      <th>std</th>\n",
              "      <td>7.815984</td>\n",
              "      <td>1.701004</td>\n",
              "      <td>104.269838</td>\n",
              "      <td>38.491160</td>\n",
              "      <td>846.841774</td>\n",
              "      <td>2.757689</td>\n",
              "      <td>3.697627</td>\n",
              "    </tr>\n",
              "    <tr>\n",
              "      <th>min</th>\n",
              "      <td>9.000000</td>\n",
              "      <td>3.000000</td>\n",
              "      <td>68.000000</td>\n",
              "      <td>46.000000</td>\n",
              "      <td>1613.000000</td>\n",
              "      <td>8.000000</td>\n",
              "      <td>70.000000</td>\n",
              "    </tr>\n",
              "    <tr>\n",
              "      <th>25%</th>\n",
              "      <td>17.500000</td>\n",
              "      <td>4.000000</td>\n",
              "      <td>104.250000</td>\n",
              "      <td>75.000000</td>\n",
              "      <td>2223.750000</td>\n",
              "      <td>13.825000</td>\n",
              "      <td>73.000000</td>\n",
              "    </tr>\n",
              "    <tr>\n",
              "      <th>50%</th>\n",
              "      <td>23.000000</td>\n",
              "      <td>4.000000</td>\n",
              "      <td>148.500000</td>\n",
              "      <td>93.500000</td>\n",
              "      <td>2803.500000</td>\n",
              "      <td>15.500000</td>\n",
              "      <td>76.000000</td>\n",
              "    </tr>\n",
              "    <tr>\n",
              "      <th>75%</th>\n",
              "      <td>29.000000</td>\n",
              "      <td>8.000000</td>\n",
              "      <td>262.000000</td>\n",
              "      <td>126.000000</td>\n",
              "      <td>3608.000000</td>\n",
              "      <td>17.175000</td>\n",
              "      <td>79.000000</td>\n",
              "    </tr>\n",
              "    <tr>\n",
              "      <th>max</th>\n",
              "      <td>46.600000</td>\n",
              "      <td>8.000000</td>\n",
              "      <td>455.000000</td>\n",
              "      <td>230.000000</td>\n",
              "      <td>5140.000000</td>\n",
              "      <td>24.800000</td>\n",
              "      <td>82.000000</td>\n",
              "    </tr>\n",
              "  </tbody>\n",
              "</table>\n",
              "</div>"
            ],
            "text/plain": [
              "              mpg   cylinders  displacement  horsepower       weight  \\\n",
              "count  398.000000  398.000000    398.000000  392.000000   398.000000   \n",
              "mean    23.514573    5.454774    193.425879  104.469388  2970.424623   \n",
              "std      7.815984    1.701004    104.269838   38.491160   846.841774   \n",
              "min      9.000000    3.000000     68.000000   46.000000  1613.000000   \n",
              "25%     17.500000    4.000000    104.250000   75.000000  2223.750000   \n",
              "50%     23.000000    4.000000    148.500000   93.500000  2803.500000   \n",
              "75%     29.000000    8.000000    262.000000  126.000000  3608.000000   \n",
              "max     46.600000    8.000000    455.000000  230.000000  5140.000000   \n",
              "\n",
              "       acceleration  model_year  \n",
              "count    398.000000  398.000000  \n",
              "mean      15.568090   76.010050  \n",
              "std        2.757689    3.697627  \n",
              "min        8.000000   70.000000  \n",
              "25%       13.825000   73.000000  \n",
              "50%       15.500000   76.000000  \n",
              "75%       17.175000   79.000000  \n",
              "max       24.800000   82.000000  "
            ]
          },
          "execution_count": 56,
          "metadata": {},
          "output_type": "execute_result"
        }
      ],
      "source": [
        "vehicle_df.describe()"
      ]
    },
    {
      "cell_type": "markdown",
      "metadata": {
        "id": "5ZbjZlr1sH68"
      },
      "source": [
        "Display only the model_year column in vehicle_df."
      ]
    },
    {
      "cell_type": "code",
      "execution_count": 57,
      "metadata": {
        "id": "wGi115NvsRCA"
      },
      "outputs": [
        {
          "data": {
            "text/plain": [
              "0      70\n",
              "1      70\n",
              "2      70\n",
              "3      70\n",
              "4      70\n",
              "       ..\n",
              "393    82\n",
              "394    82\n",
              "395    82\n",
              "396    82\n",
              "397    82\n",
              "Name: model_year, Length: 398, dtype: int64"
            ]
          },
          "execution_count": 57,
          "metadata": {},
          "output_type": "execute_result"
        }
      ],
      "source": [
        "vehicle_df['model_year']"
      ]
    },
    {
      "cell_type": "markdown",
      "metadata": {
        "id": "X9PiC0tNqpuO"
      },
      "source": [
        "Display all countries of origin in vehicle_df using the .unique() function."
      ]
    },
    {
      "cell_type": "code",
      "execution_count": 59,
      "metadata": {
        "id": "M45C39j2sBxX"
      },
      "outputs": [
        {
          "name": "stdout",
          "output_type": "stream",
          "text": [
            "['usa' 'japan' 'europe']\n"
          ]
        }
      ],
      "source": [
        "print(vehicle_df['origin'].unique())"
      ]
    },
    {
      "cell_type": "markdown",
      "metadata": {
        "id": "9tdjjhxWsWCl"
      },
      "source": [
        "Display the subset of vehicle_df containing only vehicles with eight cylinders."
      ]
    },
    {
      "cell_type": "code",
      "execution_count": 60,
      "metadata": {
        "id": "bpU__tv7snYo"
      },
      "outputs": [
        {
          "name": "stdout",
          "output_type": "stream",
          "text": [
            "      mpg  cylinders  displacement  horsepower  weight  acceleration  \\\n",
            "0    18.0          8         307.0       130.0    3504          12.0   \n",
            "1    15.0          8         350.0       165.0    3693          11.5   \n",
            "2    18.0          8         318.0       150.0    3436          11.0   \n",
            "3    16.0          8         304.0       150.0    3433          12.0   \n",
            "4    17.0          8         302.0       140.0    3449          10.5   \n",
            "..    ...        ...           ...         ...     ...           ...   \n",
            "291  19.2          8         267.0       125.0    3605          15.0   \n",
            "292  18.5          8         360.0       150.0    3940          13.0   \n",
            "298  23.0          8         350.0       125.0    3900          17.4   \n",
            "300  23.9          8         260.0        90.0    3420          22.2   \n",
            "364  26.6          8         350.0       105.0    3725          19.0   \n",
            "\n",
            "     model_year origin                                  name  \n",
            "0            70    usa             chevrolet chevelle malibu  \n",
            "1            70    usa                     buick skylark 320  \n",
            "2            70    usa                    plymouth satellite  \n",
            "3            70    usa                         amc rebel sst  \n",
            "4            70    usa                           ford torino  \n",
            "..          ...    ...                                   ...  \n",
            "291          79    usa         chevrolet malibu classic (sw)  \n",
            "292          79    usa  chrysler lebaron town @ country (sw)  \n",
            "298          79    usa                     cadillac eldorado  \n",
            "300          79    usa     oldsmobile cutlass salon brougham  \n",
            "364          81    usa                 oldsmobile cutlass ls  \n",
            "\n",
            "[103 rows x 9 columns]\n"
          ]
        }
      ],
      "source": [
        "print(vehicle_df[vehicle_df['cylinders'] == 8])"
      ]
    },
    {
      "cell_type": "markdown",
      "metadata": {
        "id": "b1zABBXrs0-T"
      },
      "source": [
        "Display the subset of vehicle_df containing only vehicles getting more than 40 MPG.\n"
      ]
    },
    {
      "cell_type": "code",
      "execution_count": 61,
      "metadata": {
        "id": "k_Xyl353suzr"
      },
      "outputs": [
        {
          "name": "stdout",
          "output_type": "stream",
          "text": [
            "      mpg  cylinders  displacement  horsepower  weight  acceleration  \\\n",
            "244  43.1          4          90.0        48.0    1985          21.5   \n",
            "309  41.5          4          98.0        76.0    2144          14.7   \n",
            "322  46.6          4          86.0        65.0    2110          17.9   \n",
            "324  40.8          4          85.0        65.0    2110          19.2   \n",
            "325  44.3          4          90.0        48.0    2085          21.7   \n",
            "326  43.4          4          90.0        48.0    2335          23.7   \n",
            "329  44.6          4          91.0        67.0    1850          13.8   \n",
            "330  40.9          4          85.0         NaN    1835          17.3   \n",
            "394  44.0          4          97.0        52.0    2130          24.6   \n",
            "\n",
            "     model_year  origin                             name  \n",
            "244          78  europe  volkswagen rabbit custom diesel  \n",
            "309          80  europe                        vw rabbit  \n",
            "322          80   japan                        mazda glc  \n",
            "324          80   japan                       datsun 210  \n",
            "325          80  europe             vw rabbit c (diesel)  \n",
            "326          80  europe               vw dasher (diesel)  \n",
            "329          80   japan              honda civic 1500 gl  \n",
            "330          80  europe             renault lecar deluxe  \n",
            "394          82  europe                        vw pickup  \n"
          ]
        }
      ],
      "source": [
        "print(vehicle_df[vehicle_df['mpg'] > 40])"
      ]
    },
    {
      "cell_type": "markdown",
      "metadata": {
        "id": "A3Zfbm_itSgz"
      },
      "source": [
        "Display the subset of vehicle_df containing only vehicles weighing more than 3000 pounds AND getting under 20 MPG."
      ]
    },
    {
      "cell_type": "code",
      "execution_count": 63,
      "metadata": {
        "id": "iMMD0ge3tLRN"
      },
      "outputs": [
        {
          "name": "stdout",
          "output_type": "stream",
          "text": [
            "      mpg  cylinders  displacement  horsepower  weight  acceleration  \\\n",
            "0    18.0          8         307.0       130.0    3504          12.0   \n",
            "1    15.0          8         350.0       165.0    3693          11.5   \n",
            "2    18.0          8         318.0       150.0    3436          11.0   \n",
            "3    16.0          8         304.0       150.0    3433          12.0   \n",
            "4    17.0          8         302.0       140.0    3449          10.5   \n",
            "..    ...        ...           ...         ...     ...           ...   \n",
            "290  15.5          8         351.0       142.0    4054          14.3   \n",
            "291  19.2          8         267.0       125.0    3605          15.0   \n",
            "292  18.5          8         360.0       150.0    3940          13.0   \n",
            "316  19.1          6         225.0        90.0    3381          18.7   \n",
            "366  17.6          6         225.0        85.0    3465          16.6   \n",
            "\n",
            "     model_year origin                                  name  \n",
            "0            70    usa             chevrolet chevelle malibu  \n",
            "1            70    usa                     buick skylark 320  \n",
            "2            70    usa                    plymouth satellite  \n",
            "3            70    usa                         amc rebel sst  \n",
            "4            70    usa                           ford torino  \n",
            "..          ...    ...                                   ...  \n",
            "290          79    usa              ford country squire (sw)  \n",
            "291          79    usa         chevrolet malibu classic (sw)  \n",
            "292          79    usa  chrysler lebaron town @ country (sw)  \n",
            "316          80    usa                           dodge aspen  \n",
            "366          81    usa                chrysler lebaron salon  \n",
            "\n",
            "[137 rows x 9 columns]\n"
          ]
        }
      ],
      "source": [
        "print(vehicle_df[(vehicle_df['weight'] > 3000) & (vehicle_df['mpg'] < 20)])"
      ]
    },
    {
      "cell_type": "markdown",
      "metadata": {
        "id": "nABID-STt8AQ"
      },
      "source": [
        "Using Matplotlib, plot mpg vs. weight on a scatter plot. Give your axes appropriate labels and include a descriptive title."
      ]
    },
    {
      "cell_type": "code",
      "execution_count": 68,
      "metadata": {
        "id": "nkJDE6jYt5LC"
      },
      "outputs": [
        {
          "data": {
            "text/plain": [
              "Text(0.5, 1.0, 'Weight vs MPG')"
            ]
          },
          "execution_count": 68,
          "metadata": {},
          "output_type": "execute_result"
        },
        {
          "data": {
            "image/png": "[encoded data removed]",
            "text/plain": [
              "<Figure size 640x480 with 1 Axes>"
            ]
          },
          "metadata": {},
          "output_type": "display_data"
        }
      ],
      "source": [
        "plt.scatter(vehicle_df['weight'], vehicle_df['mpg'])\n",
        "plt.xlabel('Weight')\n",
        "plt.ylabel('Miles per Gallon')\n",
        "plt.title('Weight vs MPG')"
      ]
    },
    {
      "cell_type": "markdown",
      "metadata": {
        "id": "_qMA-I5Juh1h"
      },
      "source": [
        "Using matplotlib, generate a bar plot of the number of vehicles produced during each year."
      ]
    },
    {
      "cell_type": "code",
      "execution_count": 70,
      "metadata": {
        "id": "Vv5X-Gjhuu8S"
      },
      "outputs": [
        {
          "data": {
            "text/plain": [
              "Text(0.5, 1.0, 'Number of Vehicles per Model Year')"
            ]
          },
          "execution_count": 70,
          "metadata": {},
          "output_type": "execute_result"
        },
        {
          "data": {
            "image/png": "[encoded data removed]",
            "text/plain": [
              "<Figure size 640x480 with 1 Axes>"
            ]
          },
          "metadata": {},
          "output_type": "display_data"
        }
      ],
      "source": [
        "plt.bar(vehicle_df['model_year'].unique(), vehicle_df['model_year'].value_counts())\n",
        "plt.xlabel('Model Year')\n",
        "plt.ylabel('Number of Vehicles')\n",
        "plt.title('Number of Vehicles per Model Year')"
      ]
    }
  ],
  "metadata": {
    "colab": {
      "collapsed_sections": [
        "xAbNTXvykeIC",
        "MyAPMZ8xe4qL",
        "LqQIUMopd30H",
        "W9yLqkFqkaum"
      ],
      "provenance": []
    },
    "kernelspec": {
      "display_name": "Python 3",
      "name": "python3"
    },
    "language_info": {
      "codemirror_mode": {
        "name": "ipython",
        "version": 3
      },
      "file_extension": ".py",
      "mimetype": "text/x-python",
      "name": "python",
      "nbconvert_exporter": "python",
      "pygments_lexer": "ipython3",
      "version": "3.11.3"
    }
  },
  "nbformat": 4,
  "nbformat_minor": 0
}
